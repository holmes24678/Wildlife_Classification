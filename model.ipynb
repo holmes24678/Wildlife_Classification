{
 "cells": [
  {
   "cell_type": "code",
   "execution_count": 45,
   "metadata": {},
   "outputs": [],
   "source": [
    "import matplotlib.pyplot as plt\n",
    "import cv2\n",
    "from PIL import Image"
   ]
  },
  {
   "cell_type": "code",
   "execution_count": 2,
   "metadata": {},
   "outputs": [],
   "source": [
    "import tensorflow"
   ]
  },
  {
   "cell_type": "code",
   "execution_count": 32,
   "metadata": {},
   "outputs": [],
   "source": [
    "from tensorflow.keras.preprocessing import image\n",
    "from tensorflow.keras.preprocessing.image import ImageDataGenerator ,load_img #type: ignore"
   ]
  },
  {
   "cell_type": "code",
   "execution_count": 4,
   "metadata": {},
   "outputs": [],
   "source": [
    "image_gen = ImageDataGenerator(rotation_range=30, # rotate the image 30 degrees\n",
    "                               width_shift_range=0.1, # Shift the pic width by a max of 10%\n",
    "                               height_shift_range=0.1, # Shift the pic height by a max of 10%\n",
    "                               rescale=1/255, # Rescale the image by normalzing it.\n",
    "                               shear_range=0.2, # Shear means cutting away part of the image (max 20%)\n",
    "                               zoom_range=0.2, # Zoom in by 20% max\n",
    "                               horizontal_flip=True, # Allo horizontal flipping\n",
    "                               fill_mode='nearest' # Fill in missing pixels with the nearest filled value\n",
    "                              )"
   ]
  },
  {
   "cell_type": "code",
   "execution_count": 5,
   "metadata": {},
   "outputs": [
    {
     "name": "stdout",
     "output_type": "stream",
     "text": [
      "Found 4320 images belonging to 90 classes.\n"
     ]
    },
    {
     "data": {
      "text/plain": [
       "<keras_preprocessing.image.directory_iterator.DirectoryIterator at 0x7943a8de20b8>"
      ]
     },
     "execution_count": 5,
     "metadata": {},
     "output_type": "execute_result"
    }
   ],
   "source": [
    "image_gen.flow_from_directory('./data/train')"
   ]
  },
  {
   "cell_type": "code",
   "execution_count": 6,
   "metadata": {},
   "outputs": [
    {
     "name": "stdout",
     "output_type": "stream",
     "text": [
      "Found 1080 images belonging to 90 classes.\n"
     ]
    },
    {
     "data": {
      "text/plain": [
       "<keras_preprocessing.image.directory_iterator.DirectoryIterator at 0x7943586d0978>"
      ]
     },
     "execution_count": 6,
     "metadata": {},
     "output_type": "execute_result"
    }
   ],
   "source": [
    "image_gen.flow_from_directory('./data/test')"
   ]
  },
  {
   "cell_type": "code",
   "execution_count": 7,
   "metadata": {},
   "outputs": [],
   "source": [
    "image_shape = (150,150,3)"
   ]
  },
  {
   "cell_type": "code",
   "execution_count": 8,
   "metadata": {},
   "outputs": [],
   "source": [
    "from tensorflow.keras.models import Sequential #type: ignore\n",
    "from tensorflow.keras.layers import Activation, Dropout, Flatten, Dense, Conv2D, MaxPooling2D #type: ignore"
   ]
  },
  {
   "cell_type": "code",
   "execution_count": 16,
   "metadata": {},
   "outputs": [],
   "source": [
    "model = Sequential()\n",
    "\n",
    "model.add(Conv2D(filters=32, kernel_size=(3,3),input_shape=(150,150,3), activation='relu',))\n",
    "model.add(MaxPooling2D(pool_size=(2, 2)))\n",
    "\n",
    "model.add(Conv2D(filters=64, kernel_size=(3,3),input_shape=(150,150,3), activation='relu',))\n",
    "model.add(MaxPooling2D(pool_size=(2, 2)))\n",
    "\n",
    "model.add(Conv2D(filters=64, kernel_size=(3,3),input_shape=(150,150,3), activation='relu',))\n",
    "model.add(MaxPooling2D(pool_size=(2, 2)))\n",
    "\n",
    "\n",
    "model.add(Flatten())\n",
    "\n",
    "\n",
    "model.add(Dense(128))\n",
    "model.add(Activation('relu'))\n",
    "\n",
    "# Dropouts help reduce overfitting by randomly turning neurons off during training.\n",
    "# Here we say randomly turn off 50% of neurons.\n",
    "model.add(Dropout(0.5))\n",
    "\n",
    "# Last layer, remember its binary, 0=cat , 1=dog\n",
    "model.add(Dense(1))\n",
    "model.add(Activation('softmax'))\n",
    "\n",
    "model.compile(loss='binary_crossentropy',\n",
    "              optimizer='adam',\n",
    "              metrics=['accuracy'])"
   ]
  },
  {
   "cell_type": "code",
   "execution_count": 17,
   "metadata": {},
   "outputs": [
    {
     "name": "stdout",
     "output_type": "stream",
     "text": [
      "Model: \"sequential_1\"\n",
      "_________________________________________________________________\n",
      "Layer (type)                 Output Shape              Param #   \n",
      "=================================================================\n",
      "conv2d_3 (Conv2D)            (None, 148, 148, 32)      896       \n",
      "_________________________________________________________________\n",
      "max_pooling2d_3 (MaxPooling2 (None, 74, 74, 32)        0         \n",
      "_________________________________________________________________\n",
      "conv2d_4 (Conv2D)            (None, 72, 72, 64)        18496     \n",
      "_________________________________________________________________\n",
      "max_pooling2d_4 (MaxPooling2 (None, 36, 36, 64)        0         \n",
      "_________________________________________________________________\n",
      "conv2d_5 (Conv2D)            (None, 34, 34, 64)        36928     \n",
      "_________________________________________________________________\n",
      "max_pooling2d_5 (MaxPooling2 (None, 17, 17, 64)        0         \n",
      "_________________________________________________________________\n",
      "flatten_1 (Flatten)          (None, 18496)             0         \n",
      "_________________________________________________________________\n",
      "dense_2 (Dense)              (None, 128)               2367616   \n",
      "_________________________________________________________________\n",
      "activation_2 (Activation)    (None, 128)               0         \n",
      "_________________________________________________________________\n",
      "dropout_1 (Dropout)          (None, 128)               0         \n",
      "_________________________________________________________________\n",
      "dense_3 (Dense)              (None, 1)                 129       \n",
      "_________________________________________________________________\n",
      "activation_3 (Activation)    (None, 1)                 0         \n",
      "=================================================================\n",
      "Total params: 2,424,065\n",
      "Trainable params: 2,424,065\n",
      "Non-trainable params: 0\n",
      "_________________________________________________________________\n"
     ]
    }
   ],
   "source": [
    "model.summary()"
   ]
  },
  {
   "cell_type": "code",
   "execution_count": 18,
   "metadata": {},
   "outputs": [
    {
     "name": "stdout",
     "output_type": "stream",
     "text": [
      "Found 4320 images belonging to 90 classes.\n"
     ]
    }
   ],
   "source": [
    "batch_size = 16\n",
    "\n",
    "train_image_gen = image_gen.flow_from_directory('./data/train',\n",
    "                                               target_size=image_shape[:2],\n",
    "                                               batch_size=batch_size,\n",
    "                                               class_mode='binary')"
   ]
  },
  {
   "cell_type": "code",
   "execution_count": 19,
   "metadata": {},
   "outputs": [
    {
     "name": "stdout",
     "output_type": "stream",
     "text": [
      "Found 1080 images belonging to 90 classes.\n"
     ]
    }
   ],
   "source": [
    "test_image_gen = image_gen.flow_from_directory('./data/test',\n",
    "                                               target_size=image_shape[:2],\n",
    "                                               batch_size=batch_size,\n",
    "                                               class_mode='binary')"
   ]
  },
  {
   "cell_type": "code",
   "execution_count": 20,
   "metadata": {},
   "outputs": [
    {
     "data": {
      "text/plain": [
       "{'antelope': 0,\n",
       " 'badger': 1,\n",
       " 'bat': 2,\n",
       " 'bear': 3,\n",
       " 'bee': 4,\n",
       " 'beetle': 5,\n",
       " 'bison': 6,\n",
       " 'boar': 7,\n",
       " 'butterfly': 8,\n",
       " 'cat': 9,\n",
       " 'caterpillar': 10,\n",
       " 'chimpanzee': 11,\n",
       " 'cockroach': 12,\n",
       " 'cow': 13,\n",
       " 'coyote': 14,\n",
       " 'crab': 15,\n",
       " 'crow': 16,\n",
       " 'deer': 17,\n",
       " 'dog': 18,\n",
       " 'dolphin': 19,\n",
       " 'donkey': 20,\n",
       " 'dragonfly': 21,\n",
       " 'duck': 22,\n",
       " 'eagle': 23,\n",
       " 'elephant': 24,\n",
       " 'flamingo': 25,\n",
       " 'fly': 26,\n",
       " 'fox': 27,\n",
       " 'goat': 28,\n",
       " 'goldfish': 29,\n",
       " 'goose': 30,\n",
       " 'gorilla': 31,\n",
       " 'grasshopper': 32,\n",
       " 'hamster': 33,\n",
       " 'hare': 34,\n",
       " 'hedgehog': 35,\n",
       " 'hippopotamus': 36,\n",
       " 'hornbill': 37,\n",
       " 'horse': 38,\n",
       " 'hummingbird': 39,\n",
       " 'hyena': 40,\n",
       " 'jellyfish': 41,\n",
       " 'kangaroo': 42,\n",
       " 'koala': 43,\n",
       " 'ladybugs': 44,\n",
       " 'leopard': 45,\n",
       " 'lion': 46,\n",
       " 'lizard': 47,\n",
       " 'lobster': 48,\n",
       " 'mosquito': 49,\n",
       " 'moth': 50,\n",
       " 'mouse': 51,\n",
       " 'octopus': 52,\n",
       " 'okapi': 53,\n",
       " 'orangutan': 54,\n",
       " 'otter': 55,\n",
       " 'owl': 56,\n",
       " 'ox': 57,\n",
       " 'oyster': 58,\n",
       " 'panda': 59,\n",
       " 'parrot': 60,\n",
       " 'pelecaniformes': 61,\n",
       " 'penguin': 62,\n",
       " 'pig': 63,\n",
       " 'pigeon': 64,\n",
       " 'porcupine': 65,\n",
       " 'possum': 66,\n",
       " 'raccoon': 67,\n",
       " 'rat': 68,\n",
       " 'reindeer': 69,\n",
       " 'rhinoceros': 70,\n",
       " 'sandpiper': 71,\n",
       " 'seahorse': 72,\n",
       " 'seal': 73,\n",
       " 'shark': 74,\n",
       " 'sheep': 75,\n",
       " 'snake': 76,\n",
       " 'sparrow': 77,\n",
       " 'squid': 78,\n",
       " 'squirrel': 79,\n",
       " 'starfish': 80,\n",
       " 'swan': 81,\n",
       " 'tiger': 82,\n",
       " 'turkey': 83,\n",
       " 'turtle': 84,\n",
       " 'whale': 85,\n",
       " 'wolf': 86,\n",
       " 'wombat': 87,\n",
       " 'woodpecker': 88,\n",
       " 'zebra': 89}"
      ]
     },
     "execution_count": 20,
     "metadata": {},
     "output_type": "execute_result"
    }
   ],
   "source": [
    "train_image_gen.class_indices"
   ]
  },
  {
   "cell_type": "code",
   "execution_count": 21,
   "metadata": {},
   "outputs": [],
   "source": [
    "import warnings\n",
    "warnings.filterwarnings('ignore')"
   ]
  },
  {
   "cell_type": "code",
   "execution_count": 22,
   "metadata": {},
   "outputs": [
    {
     "name": "stdout",
     "output_type": "stream",
     "text": [
      "Epoch 1/20\n",
      " 9/10 [==========================>...] - ETA: 0s - loss: -626.5332 - acc: 0.0208Epoch 1/20\n",
      "12/10 [====================================] - 5s 457ms/step - loss: -661.0068 - acc: 0.0104\n",
      "10/10 [==============================] - 11s 1s/step - loss: -634.4128 - acc: 0.0188 - val_loss: -642.1359 - val_acc: 0.0104\n",
      "Epoch 2/20\n",
      " 9/10 [==========================>...] - ETA: 0s - loss: -703.4123 - acc: 0.0139Epoch 1/20\n",
      "12/10 [====================================] - 5s 412ms/step - loss: -661.0068 - acc: 0.0104\n",
      "10/10 [==============================] - 10s 981ms/step - loss: -706.9581 - acc: 0.0125 - val_loss: -642.1359 - val_acc: 0.0104\n",
      "Epoch 3/20\n",
      " 9/10 [==========================>...] - ETA: 0s - loss: -732.2686 - acc: 0.0139Epoch 1/20\n",
      "12/10 [====================================] - 6s 504ms/step - loss: -661.0068 - acc: 0.0104\n",
      "10/10 [==============================] - 12s 1s/step - loss: -722.8664 - acc: 0.0125 - val_loss: -642.1359 - val_acc: 0.0104\n",
      "Epoch 4/20\n",
      " 9/10 [==========================>...] - ETA: 0s - loss: -665.0792 - acc: 0.0000e+00Epoch 1/20\n",
      "12/10 [====================================] - 6s 460ms/step - loss: -661.0068 - acc: 0.0104\n",
      "10/10 [==============================] - 11s 1s/step - loss: -670.9250 - acc: 0.0000e+00 - val_loss: -642.1359 - val_acc: 0.0104\n",
      "Epoch 5/20\n",
      " 9/10 [==========================>...] - ETA: 0s - loss: -718.6391 - acc: 0.0069Epoch 1/20\n",
      "12/10 [====================================] - 5s 406ms/step - loss: -661.0068 - acc: 0.0104\n",
      "10/10 [==============================] - 11s 1s/step - loss: -710.1206 - acc: 0.0125 - val_loss: -642.1359 - val_acc: 0.0104\n",
      "Epoch 6/20\n",
      " 9/10 [==========================>...] - ETA: 0s - loss: -716.6159 - acc: 0.0139Epoch 1/20\n",
      "12/10 [====================================] - 5s 431ms/step - loss: -661.0068 - acc: 0.0104\n",
      "10/10 [==============================] - 10s 1s/step - loss: -727.8497 - acc: 0.0125 - val_loss: -642.1359 - val_acc: 0.0104\n",
      "Epoch 7/20\n",
      " 9/10 [==========================>...] - ETA: 0s - loss: -674.2366 - acc: 0.0278Epoch 1/20\n",
      "12/10 [====================================] - 5s 444ms/step - loss: -661.0068 - acc: 0.0104\n",
      "10/10 [==============================] - 10s 1s/step - loss: -669.5834 - acc: 0.0250 - val_loss: -642.1359 - val_acc: 0.0104\n",
      "Epoch 8/20\n",
      " 9/10 [==========================>...] - ETA: 0s - loss: -646.0192 - acc: 0.0069Epoch 1/20\n",
      "12/10 [====================================] - 6s 464ms/step - loss: -661.0068 - acc: 0.0104\n",
      "10/10 [==============================] - 11s 1s/step - loss: -659.3293 - acc: 0.0063 - val_loss: -642.1359 - val_acc: 0.0104\n",
      "Epoch 9/20\n",
      " 9/10 [==========================>...] - ETA: 0s - loss: -650.4914 - acc: 0.0000e+00Epoch 1/20\n",
      "12/10 [====================================] - 5s 452ms/step - loss: -661.0068 - acc: 0.0104\n",
      "10/10 [==============================] - 12s 1s/step - loss: -635.5628 - acc: 0.0063 - val_loss: -642.1359 - val_acc: 0.0104\n",
      "Epoch 10/20\n",
      " 9/10 [==========================>...] - ETA: 0s - loss: -676.0468 - acc: 0.0069Epoch 1/20\n",
      "12/10 [====================================] - 7s 566ms/step - loss: -661.0068 - acc: 0.0104\n",
      "10/10 [==============================] - 12s 1s/step - loss: -660.0001 - acc: 0.0063 - val_loss: -642.1359 - val_acc: 0.0104\n",
      "Epoch 11/20\n",
      " 9/10 [==========================>...] - ETA: 0s - loss: -665.5052 - acc: 0.0139Epoch 1/20\n",
      "12/10 [====================================] - 5s 435ms/step - loss: -661.0068 - acc: 0.0104\n",
      "10/10 [==============================] - 11s 1s/step - loss: -666.9959 - acc: 0.0125 - val_loss: -642.1359 - val_acc: 0.0104\n",
      "Epoch 12/20\n",
      " 9/10 [==========================>...] - ETA: 0s - loss: -658.0515 - acc: 0.0139Epoch 1/20\n",
      "12/10 [====================================] - 5s 454ms/step - loss: -661.0068 - acc: 0.0104\n",
      "10/10 [==============================] - 11s 1s/step - loss: -647.3502 - acc: 0.0125 - val_loss: -642.1359 - val_acc: 0.0104\n",
      "Epoch 13/20\n",
      " 9/10 [==========================>...] - ETA: 0s - loss: -736.7408 - acc: 0.0000e+00Epoch 1/20\n",
      "12/10 [====================================] - 5s 437ms/step - loss: -661.0068 - acc: 0.0104\n",
      "10/10 [==============================] - 11s 1s/step - loss: -735.0371 - acc: 0.0000e+00 - val_loss: -642.1359 - val_acc: 0.0104\n",
      "Epoch 14/20\n",
      " 9/10 [==========================>...] - ETA: 0s - loss: -673.4912 - acc: 0.0208Epoch 1/20\n",
      "12/10 [====================================] - 6s 492ms/step - loss: -661.0068 - acc: 0.0104\n",
      "10/10 [==============================] - 12s 1s/step - loss: -681.7541 - acc: 0.0188 - val_loss: -642.1359 - val_acc: 0.0104\n",
      "Epoch 15/20\n",
      " 9/10 [==========================>...] - ETA: 0s - loss: -648.7877 - acc: 0.0069Epoch 1/20\n",
      "12/10 [====================================] - 5s 433ms/step - loss: -661.0068 - acc: 0.0104\n",
      "10/10 [==============================] - 10s 1s/step - loss: -657.2209 - acc: 0.0063 - val_loss: -642.1359 - val_acc: 0.0104\n",
      "Epoch 16/20\n",
      " 9/10 [==========================>...] - ETA: 0s - loss: -645.4867 - acc: 0.0069Epoch 1/20\n",
      "12/10 [====================================] - 6s 504ms/step - loss: -661.0068 - acc: 0.0104\n",
      "10/10 [==============================] - 11s 1s/step - loss: -645.0502 - acc: 0.0063 - val_loss: -642.1359 - val_acc: 0.0104\n",
      "Epoch 17/20\n",
      " 9/10 [==========================>...] - ETA: 0s - loss: -611.4129 - acc: 0.0069Epoch 1/20\n",
      "12/10 [====================================] - 5s 422ms/step - loss: -661.0068 - acc: 0.0104\n",
      "10/10 [==============================] - 11s 1s/step - loss: -602.1171 - acc: 0.0063 - val_loss: -642.1359 - val_acc: 0.0104\n",
      "Epoch 18/20\n",
      " 9/10 [==========================>...] - ETA: 0s - loss: -603.2139 - acc: 0.0069Epoch 1/20\n",
      "12/10 [====================================] - 6s 484ms/step - loss: -661.0068 - acc: 0.0104\n",
      "10/10 [==============================] - 11s 1s/step - loss: -599.9130 - acc: 0.0063 - val_loss: -642.1359 - val_acc: 0.0104\n",
      "Epoch 19/20\n",
      " 9/10 [==========================>...] - ETA: 0s - loss: -617.2693 - acc: 0.0208Epoch 1/20\n",
      "12/10 [====================================] - 5s 443ms/step - loss: -661.0068 - acc: 0.0104\n",
      "10/10 [==============================] - 10s 1s/step - loss: -622.1462 - acc: 0.0188 - val_loss: -642.1359 - val_acc: 0.0104\n",
      "Epoch 20/20\n",
      " 9/10 [==========================>...] - ETA: 0s - loss: -723.5372 - acc: 0.0139Epoch 1/20\n",
      "12/10 [====================================] - 5s 425ms/step - loss: -661.0068 - acc: 0.0104\n",
      "10/10 [==============================] - 10s 1s/step - loss: -717.7872 - acc: 0.0125 - val_loss: -642.1359 - val_acc: 0.0104\n"
     ]
    }
   ],
   "source": [
    "results = model.fit(train_image_gen,epochs=20,\n",
    "                              steps_per_epoch=10,\n",
    "                              validation_data=test_image_gen,\n",
    "                             validation_steps=12)"
   ]
  },
  {
   "cell_type": "code",
   "execution_count": 22,
   "metadata": {},
   "outputs": [
    {
     "name": "stderr",
     "output_type": "stream",
     "text": [
      "WARNING:absl:You are saving your model as an HDF5 file via `model.save()` or `keras.saving.save_model(model)`. This file format is considered legacy. We recommend using instead the native Keras format, e.g. `model.save('my_model.keras')` or `keras.saving.save_model(model, 'my_model.keras')`. \n"
     ]
    }
   ],
   "source": [
    "model.save('wildlife.h5')"
   ]
  },
  {
   "cell_type": "code",
   "execution_count": 24,
   "metadata": {},
   "outputs": [
    {
     "data": {
      "text/plain": [
       "[0.008750000037252903,\n",
       " 0.00937500037252903,\n",
       " 0.009166666306555271,\n",
       " 0.01197916641831398,\n",
       " 0.012083332985639572,\n",
       " 0.01145833358168602,\n",
       " 0.010833333246409893,\n",
       " 0.00937500037252903,\n",
       " 0.010833333246409893,\n",
       " 0.010937499813735485,\n",
       " 0.007916666567325592,\n",
       " 0.00937500037252903,\n",
       " 0.012083332985639572,\n",
       " 0.010937499813735485,\n",
       " 0.011250000447034836,\n",
       " 0.012500000186264515,\n",
       " 0.012083332985639572,\n",
       " 0.00989583320915699,\n",
       " 0.009583333507180214,\n",
       " 0.013020833022892475,\n",
       " 0.009166666306555271,\n",
       " 0.010937499813735485,\n",
       " 0.012916666455566883,\n",
       " 0.0062500000931322575,\n",
       " 0.011666666716337204,\n",
       " 0.0062500000931322575,\n",
       " 0.010833333246409893,\n",
       " 0.01145833358168602,\n",
       " 0.011250000447034836,\n",
       " 0.00989583320915699,\n",
       " 0.009583333507180214,\n",
       " 0.01354166679084301,\n",
       " 0.012500000186264515,\n",
       " 0.010416666977107525,\n",
       " 0.011666666716337204,\n",
       " 0.01197916641831398,\n",
       " 0.010416666977107525,\n",
       " 0.01145833358168602,\n",
       " 0.010416666977107525,\n",
       " 0.01354166679084301,\n",
       " 0.010833333246409893,\n",
       " 0.00937500037252903,\n",
       " 0.011250000447034836,\n",
       " 0.01145833358168602,\n",
       " 0.010416666977107525,\n",
       " 0.01354166679084301,\n",
       " 0.012083332985639572,\n",
       " 0.010416666977107525,\n",
       " 0.010833333246409893,\n",
       " 0.008854166604578495,\n",
       " 0.011250000447034836,\n",
       " 0.010416666977107525,\n",
       " 0.009583333507180214,\n",
       " 0.012500000186264515,\n",
       " 0.008333333767950535,\n",
       " 0.015625,\n",
       " 0.011250000447034836,\n",
       " 0.010416666977107525,\n",
       " 0.009166666306555271,\n",
       " 0.008333333767950535,\n",
       " 0.011250000447034836,\n",
       " 0.012500000186264515,\n",
       " 0.012500000186264515,\n",
       " 0.013020833022892475,\n",
       " 0.012083332985639572,\n",
       " 0.01197916641831398,\n",
       " 0.011666666716337204,\n",
       " 0.00937500037252903,\n",
       " 0.012916666455566883,\n",
       " 0.012500000186264515,\n",
       " 0.012083332985639572,\n",
       " 0.010937499813735485,\n",
       " 0.012083332985639572,\n",
       " 0.01197916641831398,\n",
       " 0.009583333507180214,\n",
       " 0.008854166604578495,\n",
       " 0.012083332985639572,\n",
       " 0.010416666977107525,\n",
       " 0.012500000186264515,\n",
       " 0.010937499813735485,\n",
       " 0.013749999925494194,\n",
       " 0.010937499813735485,\n",
       " 0.011666666716337204,\n",
       " 0.01197916641831398,\n",
       " 0.011666666716337204,\n",
       " 0.00989583320915699,\n",
       " 0.010833333246409893,\n",
       " 0.012500000186264515,\n",
       " 0.011250000447034836,\n",
       " 0.008854166604578495,\n",
       " 0.009583333507180214,\n",
       " 0.010416666977107525,\n",
       " 0.013333333656191826,\n",
       " 0.010937499813735485,\n",
       " 0.012500000186264515,\n",
       " 0.01354166679084301,\n",
       " 0.010833333246409893,\n",
       " 0.008333333767950535,\n",
       " 0.013333333656191826,\n",
       " 0.01354166679084301]"
      ]
     },
     "execution_count": 24,
     "metadata": {},
     "output_type": "execute_result"
    }
   ],
   "source": [
    "results.history['accuracy']"
   ]
  },
  {
   "cell_type": "code",
   "execution_count": 25,
   "metadata": {},
   "outputs": [
    {
     "data": {
      "text/plain": [
       "[<matplotlib.lines.Line2D at 0x2330f95aff0>]"
      ]
     },
     "execution_count": 25,
     "metadata": {},
     "output_type": "execute_result"
    },
    {
     "data": {
      "image/png": "[encoded data removed]",
      "text/plain": [
       "<Figure size 640x480 with 1 Axes>"
      ]
     },
     "metadata": {},
     "output_type": "display_data"
    }
   ],
   "source": [
    "plt.plot(results.history['accuracy'])"
   ]
  }
 ],
 "metadata": {
  "kernelspec": {
   "display_name": "Python 3",
   "language": "python",
   "name": "python3"
  },
  "language_info": {
   "codemirror_mode": {
    "name": "ipython",
    "version": 3
   },
   "file_extension": ".py",
   "mimetype": "text/x-python",
   "name": "python",
   "nbconvert_exporter": "python",
   "pygments_lexer": "ipython3",
   "version": "3.6.6"
  }
 },
 "nbformat": 4,
 "nbformat_minor": 2
}
